{
  "nbformat": 4,
  "nbformat_minor": 0,
  "metadata": {
    "kernelspec": {
      "display_name": "Python 3",
      "language": "python",
      "name": "python3"
    },
    "language_info": {
      "codemirror_mode": {
        "name": "ipython",
        "version": 3
      },
      "file_extension": ".py",
      "mimetype": "text/x-python",
      "name": "python",
      "nbconvert_exporter": "python",
      "pygments_lexer": "ipython3",
      "version": "3.8.5"
    },
    "colab": {
      "name": "lab4_maximum_likelihood_solutions (1).ipynb",
      "provenance": []
    }
  },
  "cells": [
    {
      "cell_type": "markdown",
      "metadata": {
        "id": "AFhIEH7P8I3B"
      },
      "source": [
        "# Neural Computation (Autumn 2020)\n",
        "# Lab 4: Maximum Likelihood\n",
        "In this tutorial, we will try to make you further understand:\n",
        "\n",
        "* Probability density/mass functions\n",
        "* Joint probability density/mass functions\n",
        "* Log-likelihood functions\n",
        "* Maximum likelihood estimation for different distributions, such as\n",
        "* Bernoulli distribution \n",
        "* Univariate Gaussian distribution\n",
        "\n",
        "First, you need to download a `PDF` file called *`maximum_likelihood.pdf`* from canvas, where we have toilored three exercises for this tutorial. Note that for each exercise in the `PDF` you are given a few sub questions to answer. These sub questions were used to break down the original problem into different pieces, each of which is relatively easy to derive an answer. After you have the answers of these exercises ready, you need to come back to this notebook to finish the following two exercises (unlike the `PDF` Exercise 3 here is different). \n",
        "\n",
        "In each following exercise, we have randamly sampled three datasets, i.e., Dataset 1, 2 and 3, respectively having 10, 100 and 100000 obervations. For Exercise 1, each observation $x^{(i)}$, $\\forall i\\in \\{1,...,n\\}$ where the sample size $n=10$, $100$ or $100000$, is an independent sample from a Bernoulli distribution with the *success probability* $q \\in [0,1]$. For Exercise 2, each observation $x^{(i)}$ is independent and was sampled from a normal distribution $\\cal N (\\mu, \\sigma^2)$. We note that for both excerises we used the same model parameters ($q$ or $(\\mu, \\sigma^2)$) for all three datasets. \n",
        "\n",
        "\n",
        "In Exercise 1, you are asked to code to estimate the maximum likelihood for $q$ for each dataset. \n",
        "\n",
        "In Exercise 2, you are asked to code to estimate the maximum likelihood for $(\\mu, \\sigma^2)$ for each dataset. \n",
        "\n",
        "Note that you will need to use your derviations from Excerise 1 and 2 in the `PDF` file to guide you to do the exceries in this notebook. \n",
        "\n"
      ]
    },
    {
      "cell_type": "markdown",
      "metadata": {
        "id": "z47x9Quz8I3J"
      },
      "source": [
        "## Exercise 1: Bernoulli Distribution"
      ]
    },
    {
      "cell_type": "markdown",
      "metadata": {
        "id": "eCQWwA_V8I3K"
      },
      "source": [
        "### Reading data from a CSV file\n",
        "\n",
        "We first read the cat data set from a local comma separated value (CSV) file, and store the body and heart weights in two arrays. "
      ]
    },
    {
      "cell_type": "markdown",
      "metadata": {
        "id": "1cSinqrt8I3L"
      },
      "source": [
        "We will use the [genfromtxt](https://docs.scipy.org/doc/numpy-1.13.0/reference/generated/numpy.genfromtxt.html) function in NumPy to read the data set from a CSV file located at some URL.\n",
        "\n",
        "    np.genfromtxt(url, delimiter=None, skip_header=0, usecols=None) \n",
        "\n",
        "This function takes several arguments, including: \n",
        "\n",
        "* `url`: a string that specifies a file name or an URL for the CSV file, \n",
        "* `delimiter`: a string used to separate value, \n",
        "* `skip_header`: an int indicates the number of lines to skip at the beginning of the file,  \n",
        "* `usecols`: a sequence indicating which columns to read, with 0 as first column. \n",
        "            \n",
        "We can read data from the file and store them into a variable such as `B10` using the following line. Each variable is a 1-dimensional NumPy arrary. "
      ]
    },
    {
      "cell_type": "markdown",
      "metadata": {
        "id": "IJ-hdIpq8I3M"
      },
      "source": [
        "You first need to import the numpy package to load the dataset as well as to do matrix calculation to derive statistics "
      ]
    },
    {
      "cell_type": "code",
      "metadata": {
        "id": "dlvQujvs8I3O"
      },
      "source": [
        "import numpy as np"
      ],
      "execution_count": null,
      "outputs": []
    },
    {
      "cell_type": "code",
      "metadata": {
        "id": "_MekKTg58I3R"
      },
      "source": [
        "url = \"http://www.cs.bham.ac.uk/~duanj/log/Bernoulli_Distrbution/Bernoulli_10.csv\"\n",
        "B10 = np.genfromtxt(url, delimiter=\",\", skip_header=0, usecols=(0))"
      ],
      "execution_count": null,
      "outputs": []
    },
    {
      "cell_type": "markdown",
      "metadata": {
        "id": "j75EGiL58I3S"
      },
      "source": [
        "Above B10 is a dataset with 10 observations and was randamly sampled a Bernoulli distribution with the *success probability* $q$. Write your answer below to compute the maximum likelihood for $q$"
      ]
    },
    {
      "cell_type": "code",
      "metadata": {
        "id": "XA8FWuYk8I3U"
      },
      "source": [
        "q = np.mean(B10)\n",
        "\n",
        "print(q)"
      ],
      "execution_count": null,
      "outputs": []
    },
    {
      "cell_type": "code",
      "metadata": {
        "id": "NlDTTJSw8I3V"
      },
      "source": [
        "url = \"http://www.cs.bham.ac.uk/~duanj/log/Bernoulli_Distrbution/Bernoulli_100.csv\"\n",
        "B100 = np.genfromtxt(url, delimiter=\",\", skip_header=0, usecols=(0))"
      ],
      "execution_count": null,
      "outputs": []
    },
    {
      "cell_type": "markdown",
      "metadata": {
        "id": "jB1GopR08I3X"
      },
      "source": [
        "Above B100 is a dataset with 100 observations and was randamly sampled a Bernoulli distribution with the *success probability* $q$. Write your answer below to compute the maximum likelihood for $q$"
      ]
    },
    {
      "cell_type": "code",
      "metadata": {
        "id": "Q3qneb8p8I3Y",
        "outputId": "e5b3bbd6-e27c-4567-9d52-43b7635d9757"
      },
      "source": [
        "q = np.mean(B100)\n",
        "\n",
        "print(q)"
      ],
      "execution_count": null,
      "outputs": [
        {
          "output_type": "stream",
          "text": [
            "0.49\n"
          ],
          "name": "stdout"
        }
      ]
    },
    {
      "cell_type": "code",
      "metadata": {
        "id": "zKYYeAiE8I3b"
      },
      "source": [
        "url = \"http://www.cs.bham.ac.uk/~duanj/log/Bernoulli_Distrbution/Bernoulli_100000.csv\"\n",
        "B100000 = np.genfromtxt(url, delimiter=\",\", skip_header=0, usecols=(0))"
      ],
      "execution_count": null,
      "outputs": []
    },
    {
      "cell_type": "markdown",
      "metadata": {
        "id": "LraNUfkX8I3b"
      },
      "source": [
        "Above B100000 is a dataset with 100000 observations and was randamly sampled a Bernoulli distribution with the *success probability* $q$. Write your answer below to compute the maximum likelihood for $q$"
      ]
    },
    {
      "cell_type": "code",
      "metadata": {
        "id": "U_buYHuO8I3c",
        "outputId": "5e79ff13-be16-404e-97b9-e0fe2f61ab54"
      },
      "source": [
        "q = np.mean(B100000)\n",
        "\n",
        "print(q)"
      ],
      "execution_count": null,
      "outputs": [
        {
          "output_type": "stream",
          "text": [
            "0.49945\n"
          ],
          "name": "stdout"
        }
      ]
    },
    {
      "cell_type": "markdown",
      "metadata": {
        "id": "lTMyByk_8I3d"
      },
      "source": [
        "### Question: from above calcuations what kind of rules have you found ? \n",
        "Answer: \n",
        "* The three distributions above were randomly generated by using a Bernoulli distribution with *success probability* $q = 0.5$ \n",
        "\n",
        "* From the solution of Exercise 1, it is clear that the *success probability* is the mean value of all the observations. However, due to sample size, the mean value is not strictly 0.5 for each case. You should be noting that as simple goes to infinity, we are able to get the mean value of 0.5."
      ]
    },
    {
      "cell_type": "markdown",
      "metadata": {
        "id": "7e4tbvbo8I3e"
      },
      "source": [
        "## Exercise 2: Univariate Gaussian Distribution"
      ]
    },
    {
      "cell_type": "code",
      "metadata": {
        "id": "t9M9kOBc8I3f"
      },
      "source": [
        "url = \"http://www.cs.bham.ac.uk/~duanj/log/Gaussian_Distrbution/Gaussian_10.csv\"\n",
        "G10 = np.genfromtxt(url, delimiter=\",\", skip_header=0, usecols=(0))"
      ],
      "execution_count": null,
      "outputs": []
    },
    {
      "cell_type": "markdown",
      "metadata": {
        "id": "_tCBGe0o8I3g"
      },
      "source": [
        "G10 is a dataset with 10 observations and was randamly sampled a normal distribution with $(\\mu, \\sigma^2)$. Write your answers below to compute the maximum likelihoods for $(\\mu, \\sigma^2)$, respectively."
      ]
    },
    {
      "cell_type": "code",
      "metadata": {
        "id": "Q9tftns18I3h",
        "outputId": "3c1a46f5-9439-4343-e814-be9940f3354f"
      },
      "source": [
        "mu = np.mean(G10)\n",
        "sigma_square = np.var(G10)\n",
        "\n",
        "print(mu)\n",
        "print(sigma_square)"
      ],
      "execution_count": null,
      "outputs": [
        {
          "output_type": "stream",
          "text": [
            "1.7359903060390747\n",
            "7.946229149386781\n"
          ],
          "name": "stdout"
        }
      ]
    },
    {
      "cell_type": "code",
      "metadata": {
        "id": "Kk02vXNM8I3i"
      },
      "source": [
        "url = \"http://www.cs.bham.ac.uk/~duanj/log/Gaussian_Distrbution/Gaussian_100.csv\"\n",
        "G100 = np.genfromtxt(url, delimiter=\",\", skip_header=0, usecols=(0))"
      ],
      "execution_count": null,
      "outputs": []
    },
    {
      "cell_type": "markdown",
      "metadata": {
        "id": "L9Q3Rwfg8I3i"
      },
      "source": [
        "G100 is a dataset with 100 observations and was randamly sampled a normal distribution with $(\\mu, \\sigma^2)$. Write your answers below to compute the maximum likelihoods for $(\\mu, \\sigma^2)$, respectively."
      ]
    },
    {
      "cell_type": "code",
      "metadata": {
        "id": "ULSNJWJG8I3l",
        "outputId": "484b3d79-1274-457a-975f-3f91320513bd"
      },
      "source": [
        "mu = np.mean(G100)\n",
        "sigma_square = np.var(G100)\n",
        "\n",
        "print(mu)\n",
        "print(sigma_square)"
      ],
      "execution_count": null,
      "outputs": [
        {
          "output_type": "stream",
          "text": [
            "1.9096529632848913\n",
            "16.471460626535436\n"
          ],
          "name": "stdout"
        }
      ]
    },
    {
      "cell_type": "code",
      "metadata": {
        "id": "vh-pQGC48I3m"
      },
      "source": [
        "url = \"http://www.cs.bham.ac.uk/~duanj/log/Gaussian_Distrbution/Gaussian_100000.csv\"\n",
        "G100000 = np.genfromtxt(url, delimiter=\",\", skip_header=0, usecols=(0))"
      ],
      "execution_count": null,
      "outputs": []
    },
    {
      "cell_type": "markdown",
      "metadata": {
        "id": "dOO8FUY58I3n"
      },
      "source": [
        "G100000 is a dataset with 100000 observations and was randamly sampled a normal distribution with $(\\mu, \\sigma^2)$. Write your answers below to compute the maximum likelihoods for $(\\mu, \\sigma^2)$, respectively."
      ]
    },
    {
      "cell_type": "code",
      "metadata": {
        "id": "EHs-LU528I3n",
        "outputId": "11477a8a-5f9e-4e57-abda-6610a348210d"
      },
      "source": [
        "mu = np.mean(G100000)\n",
        "sigma_square = np.var(G100000)\n",
        "\n",
        "print(mu)\n",
        "print(sigma_square)"
      ],
      "execution_count": null,
      "outputs": [
        {
          "output_type": "stream",
          "text": [
            "2.02020308037172\n",
            "15.958237670611767\n"
          ],
          "name": "stdout"
        }
      ]
    },
    {
      "cell_type": "markdown",
      "metadata": {
        "id": "PImu7q3S8I3o"
      },
      "source": [
        "### Question: from above calcuations what have you found ? \n",
        "Answer:\n",
        "\n",
        "* The three distributions above were randomly generated by using a normal distribution with mean being 2 and variance being 16 \n",
        "\n",
        "* From the solution of Exercise 2, it is clear that $\\mu$ is the mean value of all the observations and $\\sigma^2$ is the variance of all the observations. When simple size is samll, the error is big."
      ]
    },
    {
      "cell_type": "markdown",
      "metadata": {
        "id": "W3ll-S4z8I3p"
      },
      "source": [
        "## Exercise 3: Sample a normal Distribution"
      ]
    },
    {
      "cell_type": "markdown",
      "metadata": {
        "id": "7pApG2Jv8I3p"
      },
      "source": [
        "Write down your code below to sample a Bernoulli distrbution with the success probability being 0.1 and a normal distribution with mean being 4 and standard derviation being 8. For each sampling, please show the impact of using different sample sizes, i.e., $n=10$, $100$ and $100000$.  "
      ]
    },
    {
      "cell_type": "code",
      "metadata": {
        "id": "YYpAgC8G8I3q",
        "outputId": "1b8b4eae-cb9b-443b-b671-3811da77d13a"
      },
      "source": [
        "sample_size = [10, 100, 100000]\n",
        "success_prob = 0.1 \n",
        "mean = 4 \n",
        "std = 8\n",
        "# setting binomial parameter 1 gives a Bernoulli distribution\n",
        "for s in sample_size:\n",
        "    BD = np.random.binomial(1, success_prob, size=s)\n",
        "    ND = np.random.normal(mean, std, size=s)\n",
        "    print('for sample size {} of Bernoulli distrbution, success probability is {}'.format(s, BD.mean()))\n",
        "    print('for sample size {} of normal distr, mean value is {}'.format(s, ND.mean()))\n",
        "    print('for sample size {}, standard derviation is {}'.format(s, ND.std()))\n",
        "    "
      ],
      "execution_count": null,
      "outputs": [
        {
          "output_type": "stream",
          "text": [
            "for sample size 10 of Bernoulli distrbution, success probability is 0.0\n",
            "for sample size 10 of normal distr, mean value is 2.0760007757034904\n",
            "for sample size 10, standard derviation is 9.973458367435411\n",
            "for sample size 100 of Bernoulli distrbution, success probability is 0.11\n",
            "for sample size 100 of normal distr, mean value is 3.752333156271396\n",
            "for sample size 100, standard derviation is 7.958633077992727\n",
            "for sample size 100000 of Bernoulli distrbution, success probability is 0.10031\n",
            "for sample size 100000 of normal distr, mean value is 3.9702218004060432\n",
            "for sample size 100000, standard derviation is 7.999950935216351\n"
          ],
          "name": "stdout"
        }
      ]
    }
  ]
}