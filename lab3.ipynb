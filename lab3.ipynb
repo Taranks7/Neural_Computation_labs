{
  "nbformat": 4,
  "nbformat_minor": 0,
  "metadata": {
    "kernelspec": {
      "display_name": "Python 3",
      "language": "python",
      "name": "python3"
    },
    "language_info": {
      "codemirror_mode": {
        "name": "ipython",
        "version": 3
      },
      "file_extension": ".py",
      "mimetype": "text/x-python",
      "name": "python",
      "nbconvert_exporter": "python",
      "pygments_lexer": "ipython3",
      "version": "3.7.1"
    },
    "colab": {
      "name": "lab3_numpy_tensor_solutions.ipynb",
      "provenance": []
    }
  },
  "cells": [
    {
      "cell_type": "markdown",
      "metadata": {
        "id": "OspBApNr7aBI"
      },
      "source": [
        "### Exercise: \n",
        "\n",
        "Given a 2-dimensional array as follows:\n",
        "  \n",
        "    [[5, 4, 9],\n",
        "     [8, 1, 5],\n",
        "     [3, 0, 3]]\n",
        "  \n",
        "Could you sort the array to obtain the following array?\n",
        "\n",
        "    [[9, 5, 4], \n",
        "     [8, 5, 1], \n",
        "     [3, 3, 0]]"
      ]
    },
    {
      "cell_type": "code",
      "metadata": {
        "id": "xotSZYKP7aBL"
      },
      "source": [
        "import numpy as np"
      ],
      "execution_count": null,
      "outputs": []
    },
    {
      "cell_type": "code",
      "metadata": {
        "id": "9H8mkzex7aBN"
      },
      "source": [
        "arr=np.array([[5,4,9],[8,1,5],[3,0,3]])\n",
        "arr.sort(axis=1)\n",
        "arr=arr[:,::-1]\n",
        "print(arr)"
      ],
      "execution_count": null,
      "outputs": []
    },
    {
      "cell_type": "markdown",
      "metadata": {
        "id": "Pd7RjH0Z7aBO"
      },
      "source": [
        "Similarly, write codes to produce the following array:\n",
        "\n",
        "    [[8, 4, 9],\n",
        "     [5, 1, 5],\n",
        "     [3, 0, 3]]"
      ]
    },
    {
      "cell_type": "code",
      "metadata": {
        "id": "6vLVrHJQ7aBO"
      },
      "source": [
        "arr=np.array([[5,4,9],[8,1,5],[3,0,3]])\n",
        "arr.sort(axis=0)\n",
        "arr=arr[::-1]\n",
        "print(arr)"
      ],
      "execution_count": null,
      "outputs": []
    },
    {
      "cell_type": "markdown",
      "metadata": {
        "id": "vKywuZwH7aBP"
      },
      "source": [
        "# Exercises"
      ]
    },
    {
      "cell_type": "markdown",
      "metadata": {
        "id": "9ADWqVEk7aBQ"
      },
      "source": [
        "## Exercise 1: tensordot\n",
        "\n",
        "Given two tensors as follows:\n",
        "\n",
        "    a = np.random.randint(0,10,(4,4,5))\n",
        "    b = np.random.randint(0,10,(3,4,4))\n",
        "\n",
        "Calculate the tensordot of the two tensors. How can we obtain a result tensor of shape `(5, 3)`?"
      ]
    },
    {
      "cell_type": "code",
      "metadata": {
        "id": "xJLNDZVg7aBR"
      },
      "source": [
        "a = np.random.randint(0,10,(4,4,5))\n",
        "b = np.random.randint(0,10,(3,4,4))\n",
        "c=np.tensordot(a,b, axes=([0,1],[1,2])) #axes=([0,1],[2,1]) axes=([1,0],[1,2]) axes=([1,0],[2,1])\n",
        "print(c.shape)"
      ],
      "execution_count": null,
      "outputs": []
    },
    {
      "cell_type": "markdown",
      "metadata": {
        "id": "ssHI-o0P7aBR"
      },
      "source": [
        "## Exercise 2: transpose\n",
        "\n",
        "Given a tensor \n",
        "\n",
        "    a = np.random.randint(0, 10, (3,4,5,6))\n",
        "\n",
        "How can we get a tensor b with shape `(4,5,6,3)` from tensor a?"
      ]
    },
    {
      "cell_type": "code",
      "metadata": {
        "id": "5Jln_x8t7aBS"
      },
      "source": [
        "a = np.random.randint(0, 10, (3,4,5,6))\n",
        "print(a.shape)\n",
        "a = a.transpose(1,2,3,0)\n",
        "print(a.shape)"
      ],
      "execution_count": null,
      "outputs": []
    },
    {
      "cell_type": "markdown",
      "metadata": {
        "id": "BX9JjmUV7aBS"
      },
      "source": [
        "## Exercise 3: random seeds\n",
        "\n",
        "Given a tensor \n",
        "\n",
        "    a = np.random.randint(0, 10, (3,4,5,6))\n",
        "\n",
        "How can we make sure the entries in the tensor `a` same each time when we run the block ? "
      ]
    },
    {
      "cell_type": "code",
      "metadata": {
        "id": "Q40D024n7aBS"
      },
      "source": [
        "np.random.seed(0)  #set random seed value\n",
        "a = np.random.randint(0, 10, (3,4,5,6))\n",
        "np.random.seed(0)\n",
        "b = np.random.randint(0, 10, (3,4,5,6))\n",
        "print(a == b)"
      ],
      "execution_count": null,
      "outputs": []
    },
    {
      "cell_type": "markdown",
      "metadata": {
        "id": "zAohnyQl7aBT"
      },
      "source": [
        "## Exercise 4: transpose and reshape\n",
        "\n",
        "Given a tensor \n",
        "\n",
        "    a = np.random.randint(0, 10, (3,4,5,6))\n",
        "    b = b.tanspose(3,2,0,1)\n",
        "    b = b.reshape((30,12))\n",
        "\n",
        "How can we get back to tensor `a` from tensor `b`?"
      ]
    },
    {
      "cell_type": "code",
      "metadata": {
        "id": "mWu3Zxnd7aBT"
      },
      "source": [
        "a = np.random.randint(0, 10, (3,4,5,6))\n",
        "b = a.transpose(3,2,0,1)\n",
        "print(b.shape)\n",
        "b = b.reshape((30,12))\n",
        "c = b.reshape((6,5,3,4))\n",
        "c = c.transpose(2,3,1,0)\n",
        "print(a==c)"
      ],
      "execution_count": null,
      "outputs": []
    }
  ]
}